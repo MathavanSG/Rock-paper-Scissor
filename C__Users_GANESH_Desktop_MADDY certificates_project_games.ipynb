{
 "cells": [
  {
   "cell_type": "code",
   "execution_count": 1,
   "id": "b0ea4d12",
   "metadata": {},
   "outputs": [],
   "source": [
    "import random"
   ]
  },
  {
   "cell_type": "code",
   "execution_count": 2,
   "id": "2554bcf8",
   "metadata": {},
   "outputs": [],
   "source": [
    "user_wins=0"
   ]
  },
  {
   "cell_type": "code",
   "execution_count": 3,
   "id": "e5c18606",
   "metadata": {},
   "outputs": [],
   "source": [
    "computer_wins=0"
   ]
  },
  {
   "cell_type": "code",
   "execution_count": 4,
   "id": "1293ee3b",
   "metadata": {},
   "outputs": [],
   "source": [
    "options=[\"Rock\",\"Paper\",\"Scissor\"]"
   ]
  },
  {
   "cell_type": "code",
   "execution_count": null,
   "id": "fc2dee36",
   "metadata": {},
   "outputs": [
    {
     "name": "stdout",
     "output_type": "stream",
     "text": [
      "Type Rock/Paper/Scissor or Q to quit: Rock\n",
      "computer picked Paper.\n",
      "computer won\n"
     ]
    }
   ],
   "source": [
    "user_wins=0\n",
    "computer_wins=0\n",
    "options=[\"Rock\",\"Paper\",\"Scissor\"]\n",
    "while True:\n",
    "    user_input=input(\"Type Rock/Paper/Scissor or Q to quit: \").lower()\n",
    "    if user_input==\"q\":\n",
    "        break\n",
    "    if user_input in options:\n",
    "        continue\n",
    "    random_number=random.randint(0,2)\n",
    "    #rock-0,paper-1,scissor-2\n",
    "    computer_pick=options[random_number]\n",
    "    print(\"computer picked\",computer_pick+\".\")\n",
    "    \n",
    "    if user_input==\"Rock\" and computer_pick==\"Scissor\":\n",
    "        print(\"you won\")\n",
    "        user_wins+=1\n",
    "        continue\n",
    "\n",
    "    elif user_input==\"Paper\" and computer_pick==\"Rock\":\n",
    "        print(\"user won\")\n",
    "        user_wins+=1\n",
    "        continue\n",
    "    elif user_input==\"Scissor\" and computer_pick==\"Paper\":\n",
    "        print(\"user won\")\n",
    "        user_wins+=1\n",
    "        break\n",
    "    if user_input==computer_pick:\n",
    "        print(\"draw\")\n",
    "        user_wins==computer_wins==0\n",
    "        continue\n",
    "    else:\n",
    "        print(\"computer won\")\n",
    "        computer_wins+=1\n",
    "print(computer_wins)\n",
    "print(user_wins)\n",
    "\n",
    "print(\"Good bye\")\n",
    "\n",
    "        \n",
    "    \n",
    "        "
   ]
  },
  {
   "cell_type": "code",
   "execution_count": null,
   "id": "f1c3ff83",
   "metadata": {},
   "outputs": [],
   "source": []
  }
 ],
 "metadata": {
  "kernelspec": {
   "display_name": "Python 3 (ipykernel)",
   "language": "python",
   "name": "python3"
  },
  "language_info": {
   "codemirror_mode": {
    "name": "ipython",
    "version": 3
   },
   "file_extension": ".py",
   "mimetype": "text/x-python",
   "name": "python",
   "nbconvert_exporter": "python",
   "pygments_lexer": "ipython3",
   "version": "3.9.13"
  }
 },
 "nbformat": 4,
 "nbformat_minor": 5
}
